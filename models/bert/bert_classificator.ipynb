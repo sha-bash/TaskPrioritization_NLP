{
 "cells": [
  {
   "cell_type": "code",
   "execution_count": 1,
   "id": "6639e506-b357-4794-b1a7-99ebd657741d",
   "metadata": {},
   "outputs": [
    {
     "name": "stdout",
     "output_type": "stream",
     "text": [
      "D:\\Python\\py_programs\\TaskPrioritization_NLP\\models\\bert\n"
     ]
    }
   ],
   "source": [
    "import os\n",
    "print(os.getcwd())\n"
   ]
  },
  {
   "cell_type": "code",
   "execution_count": 1,
   "id": "da54dfdd-573d-4422-a0eb-0ee9d2a1a765",
   "metadata": {},
   "outputs": [],
   "source": [
    "# Ячейка 1: Импорт библиотек\n",
    "import pandas as pd\n",
    "import torch\n",
    "from sklearn.model_selection import train_test_split\n",
    "from sklearn.metrics import accuracy_score, classification_report\n",
    "from transformers import BertTokenizer, BertForSequenceClassification, Trainer, TrainingArguments"
   ]
  },
  {
   "cell_type": "code",
   "execution_count": 2,
   "id": "c7287938-963a-4a1f-b5f6-b204ccb8ef28",
   "metadata": {
    "scrolled": true
   },
   "outputs": [
    {
     "name": "stdout",
     "output_type": "stream",
     "text": [
      "<class 'pandas.core.series.Series'>\n",
      "<class 'str'>\n"
     ]
    }
   ],
   "source": [
    "# Ячейка 2: Загрузка данных\n",
    "df = pd.read_csv(\"processed_data.csv\", sep=';', encoding='utf-8')  \n",
    "texts = df['Обработанный_Текст']  # Столбец с текстами\n",
    "labels = df['Метка']  # Столбец с метками\n",
    "\n",
    "train_texts, val_texts, train_labels, val_labels = train_test_split(\n",
    "    texts, labels, test_size=0.2, random_state=42\n",
    ")\n",
    "print(type(train_texts))  # Должно быть <class 'list'>\n",
    "print(type(train_texts[0]))  # Должно быть <class 'str'>"
   ]
  },
  {
   "cell_type": "code",
   "execution_count": 3,
   "id": "b84a8232-b878-45ad-852c-2e65996ba285",
   "metadata": {},
   "outputs": [
    {
     "name": "stdout",
     "output_type": "stream",
     "text": [
      "<class 'list'>\n",
      "<class 'list'>\n"
     ]
    }
   ],
   "source": [
    "# Загрузка токенизатора\n",
    "tokenizer = BertTokenizer.from_pretrained('bert-base-uncased')\n",
    "\n",
    "# Функция для токенизации\n",
    "def tokenize_data(texts):\n",
    "    # Убедимся, что данные являются списком строк\n",
    "    texts = [str(text) for text in texts if text is not None]\n",
    "    return tokenizer(texts, padding=True, truncation=True, max_length=128, return_tensors=\"pt\")\n",
    "\n",
    "# Преобразуем Series в список строк и удаляем None\n",
    "train_texts_list = [str(text) for text in train_texts.tolist() if text is not None]\n",
    "val_texts_list = [str(text) for text in val_texts.tolist() if text is not None]\n",
    "print(type(train_texts_list))  # Должно быть <class 'list'>\n",
    "print(type(val_texts_list))\n",
    "\n",
    "# Токенизация данных\n",
    "train_encodings = tokenize_data(train_texts_list)\n",
    "val_encodings = tokenize_data(val_texts_list)\n"
   ]
  },
  {
   "cell_type": "code",
   "execution_count": 4,
   "id": "75615c95-cfb7-428c-882a-c1927b003681",
   "metadata": {},
   "outputs": [],
   "source": [
    "# Ячейка 4: Создание датасетов\n",
    "class TextDataset(torch.utils.data.Dataset):\n",
    "    def __init__(self, encodings, labels):\n",
    "        self.encodings = encodings\n",
    "        self.labels = labels\n",
    "\n",
    "    def __len__(self):\n",
    "        return len(self.labels)\n",
    "\n",
    "    def __getitem__(self, idx):\n",
    "        item = {key: torch.tensor(val[idx]) for key, val in self.encodings.items()}\n",
    "        item['labels'] = torch.tensor(self.labels[idx])\n",
    "        return item\n",
    "\n",
    "train_dataset = TextDataset(train_encodings, train_labels.tolist())\n",
    "val_dataset = TextDataset(val_encodings, val_labels.tolist())"
   ]
  },
  {
   "cell_type": "code",
   "execution_count": 5,
   "id": "0192ec38-c579-4de0-bf3a-b53ce4c65f82",
   "metadata": {},
   "outputs": [
    {
     "name": "stderr",
     "output_type": "stream",
     "text": [
      "Some weights of BertForSequenceClassification were not initialized from the model checkpoint at bert-base-uncased and are newly initialized: ['classifier.bias', 'classifier.weight']\n",
      "You should probably TRAIN this model on a down-stream task to be able to use it for predictions and inference.\n",
      "D:\\Python\\py_programs\\TaskPrioritization_NLP\\venv\\Lib\\site-packages\\transformers\\training_args.py:1575: FutureWarning: `evaluation_strategy` is deprecated and will be removed in version 4.46 of 🤗 Transformers. Use `eval_strategy` instead\n",
      "  warnings.warn(\n",
      "C:\\Users\\sha-b\\AppData\\Local\\Temp\\ipykernel_2580\\1512811855.py:11: UserWarning: To copy construct from a tensor, it is recommended to use sourceTensor.clone().detach() or sourceTensor.clone().detach().requires_grad_(True), rather than torch.tensor(sourceTensor).\n",
      "  item = {key: torch.tensor(val[idx]) for key, val in self.encodings.items()}\n"
     ]
    },
    {
     "data": {
      "text/html": [
       "\n",
       "    <div>\n",
       "      \n",
       "      <progress value='783' max='783' style='width:300px; height:20px; vertical-align: middle;'></progress>\n",
       "      [783/783 1:17:01, Epoch 3/3]\n",
       "    </div>\n",
       "    <table border=\"1\" class=\"dataframe\">\n",
       "  <thead>\n",
       " <tr style=\"text-align: left;\">\n",
       "      <th>Epoch</th>\n",
       "      <th>Training Loss</th>\n",
       "      <th>Validation Loss</th>\n",
       "      <th>Accuracy</th>\n",
       "    </tr>\n",
       "  </thead>\n",
       "  <tbody>\n",
       "    <tr>\n",
       "      <td>1</td>\n",
       "      <td>0.444500</td>\n",
       "      <td>0.384038</td>\n",
       "      <td>0.822797</td>\n",
       "    </tr>\n",
       "    <tr>\n",
       "      <td>2</td>\n",
       "      <td>0.332900</td>\n",
       "      <td>0.254734</td>\n",
       "      <td>0.895594</td>\n",
       "    </tr>\n",
       "    <tr>\n",
       "      <td>3</td>\n",
       "      <td>0.230700</td>\n",
       "      <td>0.255317</td>\n",
       "      <td>0.902299</td>\n",
       "    </tr>\n",
       "  </tbody>\n",
       "</table><p>"
      ],
      "text/plain": [
       "<IPython.core.display.HTML object>"
      ]
     },
     "metadata": {},
     "output_type": "display_data"
    },
    {
     "name": "stderr",
     "output_type": "stream",
     "text": [
      "C:\\Users\\sha-b\\AppData\\Local\\Temp\\ipykernel_2580\\1512811855.py:11: UserWarning: To copy construct from a tensor, it is recommended to use sourceTensor.clone().detach() or sourceTensor.clone().detach().requires_grad_(True), rather than torch.tensor(sourceTensor).\n",
      "  item = {key: torch.tensor(val[idx]) for key, val in self.encodings.items()}\n",
      "C:\\Users\\sha-b\\AppData\\Local\\Temp\\ipykernel_2580\\1512811855.py:11: UserWarning: To copy construct from a tensor, it is recommended to use sourceTensor.clone().detach() or sourceTensor.clone().detach().requires_grad_(True), rather than torch.tensor(sourceTensor).\n",
      "  item = {key: torch.tensor(val[idx]) for key, val in self.encodings.items()}\n",
      "C:\\Users\\sha-b\\AppData\\Local\\Temp\\ipykernel_2580\\1512811855.py:11: UserWarning: To copy construct from a tensor, it is recommended to use sourceTensor.clone().detach() or sourceTensor.clone().detach().requires_grad_(True), rather than torch.tensor(sourceTensor).\n",
      "  item = {key: torch.tensor(val[idx]) for key, val in self.encodings.items()}\n"
     ]
    },
    {
     "data": {
      "text/plain": [
       "TrainOutput(global_step=783, training_loss=0.36306491924276146, metrics={'train_runtime': 4629.3319, 'train_samples_per_second': 2.704, 'train_steps_per_second': 0.169, 'total_flos': 823471825512960.0, 'train_loss': 0.36306491924276146, 'epoch': 3.0})"
      ]
     },
     "execution_count": 5,
     "metadata": {},
     "output_type": "execute_result"
    }
   ],
   "source": [
    "# Ячейка 5: Создание модели и обучение\n",
    "model = BertForSequenceClassification.from_pretrained('bert-base-uncased', num_labels=2)  # Бинарная классификация\n",
    "\n",
    "training_args = TrainingArguments(\n",
    "    output_dir='training/results',           # Куда сохранять результаты\n",
    "    num_train_epochs=3,               # Количество эпох\n",
    "    per_device_train_batch_size=16,   # Размер батча\n",
    "    per_device_eval_batch_size=64,    # Размер батча для валидации\n",
    "    warmup_steps=500,                 # Линейный LR scheduler\n",
    "    weight_decay=0.01,                # Регуляризация\n",
    "    logging_dir='training/logs',             # Логи\n",
    "    logging_steps=10,\n",
    "    evaluation_strategy=\"epoch\",      # Оценка после каждой эпохи\n",
    "    save_strategy=\"epoch\"             # Сохранение модели после каждой эпохи\n",
    ")\n",
    "\n",
    "trainer = Trainer(\n",
    "    model=model,\n",
    "    args=training_args,\n",
    "    train_dataset=train_dataset,\n",
    "    eval_dataset=val_dataset,\n",
    "    compute_metrics=lambda p: {\"accuracy\": accuracy_score(p.label_ids, p.predictions.argmax(-1))}\n",
    ")\n",
    "\n",
    "trainer.train()"
   ]
  },
  {
   "cell_type": "code",
   "execution_count": null,
   "id": "5935b737-433c-465f-ada0-4c53c46c8f24",
   "metadata": {},
   "outputs": [
    {
     "name": "stderr",
     "output_type": "stream",
     "text": [
      "C:\\Users\\sha-b\\AppData\\Local\\Temp\\ipykernel_2580\\1512811855.py:11: UserWarning: To copy construct from a tensor, it is recommended to use sourceTensor.clone().detach() or sourceTensor.clone().detach().requires_grad_(True), rather than torch.tensor(sourceTensor).\n",
      "  item = {key: torch.tensor(val[idx]) for key, val in self.encodings.items()}\n"
     ]
    },
    {
     "data": {
      "text/html": [
       "\n",
       "    <div>\n",
       "      \n",
       "      <progress value='15' max='17' style='width:300px; height:20px; vertical-align: middle;'></progress>\n",
       "      [15/17 01:23 < 00:11, 0.17 it/s]\n",
       "    </div>\n",
       "    "
      ],
      "text/plain": [
       "<IPython.core.display.HTML object>"
      ]
     },
     "metadata": {},
     "output_type": "display_data"
    }
   ],
   "source": [
    "# Ячейка 6: Оценка модели и сохранение\n",
    "trainer.evaluate()\n",
    "\n",
    "model.save_pretrained(\"training/saved_model\")\n",
    "tokenizer.save_pretrained(\"training/saved_model\")"
   ]
  },
  {
   "cell_type": "code",
   "execution_count": null,
   "id": "41c0c1af-8e38-4041-b0f4-f5bb4a379ac7",
   "metadata": {},
   "outputs": [],
   "source": []
  }
 ],
 "metadata": {
  "kernelspec": {
   "display_name": "Python 3 (ipykernel)",
   "language": "python",
   "name": "python3"
  },
  "language_info": {
   "codemirror_mode": {
    "name": "ipython",
    "version": 3
   },
   "file_extension": ".py",
   "mimetype": "text/x-python",
   "name": "python",
   "nbconvert_exporter": "python",
   "pygments_lexer": "ipython3",
   "version": "3.11.8"
  }
 },
 "nbformat": 4,
 "nbformat_minor": 5
}
